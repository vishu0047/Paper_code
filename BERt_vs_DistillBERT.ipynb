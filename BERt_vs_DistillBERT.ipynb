{
  "nbformat": 4,
  "nbformat_minor": 0,
  "metadata": {
    "colab": {
      "name": "BERt_vs_DistillBERT.ipynb",
      "provenance": [],
      "include_colab_link": true
    },
    "kernelspec": {
      "name": "python3",
      "display_name": "Python 3"
    }
  },
  "cells": [
    {
      "cell_type": "markdown",
      "metadata": {
        "id": "view-in-github",
        "colab_type": "text"
      },
      "source": [
        "<a href=\"https://colab.research.google.com/github/vishu0047/Paper_code/blob/master/BERt_vs_DistillBERT.ipynb\" target=\"_parent\"><img src=\"https://colab.research.google.com/assets/colab-badge.svg\" alt=\"Open In Colab\"/></a>"
      ]
    },
    {
      "cell_type": "code",
      "metadata": {
        "id": "hyWJb4PcgmZ8",
        "colab_type": "code",
        "colab": {
          "base_uri": "https://localhost:8080/",
          "height": 68
        },
        "outputId": "d2ca027e-eb8f-4c99-b27b-86b36f6106a0"
      },
      "source": [
        "pip install transformer\n"
      ],
      "execution_count": 1,
      "outputs": [
        {
          "output_type": "stream",
          "text": [
            "Collecting transformer\n",
            "\u001b[31m  ERROR: Could not find a version that satisfies the requirement transformer (from versions: none)\u001b[0m\n",
            "\u001b[31mERROR: No matching distribution found for transformer\u001b[0m\n"
          ],
          "name": "stdout"
        }
      ]
    },
    {
      "cell_type": "code",
      "metadata": {
        "id": "lcRdD79wgqsH",
        "colab_type": "code",
        "colab": {
          "base_uri": "https://localhost:8080/",
          "height": 561
        },
        "outputId": "0a63584d-42ff-430e-8e47-7933181627fb"
      },
      "source": [
        "pip install tensorflow==2.0.0-rc0"
      ],
      "execution_count": 6,
      "outputs": [
        {
          "output_type": "stream",
          "text": [
            "Collecting tensorflow==2.0.0-rc0\n",
            "\u001b[?25l  Downloading https://files.pythonhosted.org/packages/fb/4b/77f0965ec7e8a76d3dcd6a22ca8bbd2b934cd92c4ded43fef6bea5ff3258/tensorflow-2.0.0rc0-cp36-cp36m-manylinux2010_x86_64.whl (86.3MB)\n",
            "\u001b[K     |████████████████████████████████| 86.3MB 1.2MB/s \n",
            "\u001b[?25hCollecting tb-nightly<1.15.0a20190807,>=1.15.0a20190806 (from tensorflow==2.0.0-rc0)\n",
            "\u001b[?25l  Downloading https://files.pythonhosted.org/packages/bc/88/24b5fb7280e74c7cf65bde47c171547fd02afb3840cff41bcbe9270650f5/tb_nightly-1.15.0a20190806-py3-none-any.whl (4.3MB)\n",
            "\u001b[K     |████████████████████████████████| 4.3MB 40.0MB/s \n",
            "\u001b[?25hRequirement already satisfied: termcolor>=1.1.0 in /usr/local/lib/python3.6/dist-packages (from tensorflow==2.0.0-rc0) (1.1.0)\n",
            "Requirement already satisfied: numpy<2.0,>=1.16.0 in /usr/local/lib/python3.6/dist-packages (from tensorflow==2.0.0-rc0) (1.16.5)\n",
            "Requirement already satisfied: google-pasta>=0.1.6 in /usr/local/lib/python3.6/dist-packages (from tensorflow==2.0.0-rc0) (0.1.7)\n",
            "Requirement already satisfied: wrapt>=1.11.1 in /usr/local/lib/python3.6/dist-packages (from tensorflow==2.0.0-rc0) (1.11.2)\n",
            "Requirement already satisfied: six>=1.10.0 in /usr/local/lib/python3.6/dist-packages (from tensorflow==2.0.0-rc0) (1.12.0)\n",
            "Requirement already satisfied: keras-preprocessing>=1.0.5 in /usr/local/lib/python3.6/dist-packages (from tensorflow==2.0.0-rc0) (1.1.0)\n",
            "Requirement already satisfied: wheel>=0.26 in /usr/local/lib/python3.6/dist-packages (from tensorflow==2.0.0-rc0) (0.33.6)\n",
            "Requirement already satisfied: opt-einsum>=2.3.2 in /usr/local/lib/python3.6/dist-packages (from tensorflow==2.0.0-rc0) (3.0.1)\n",
            "Requirement already satisfied: astor>=0.6.0 in /usr/local/lib/python3.6/dist-packages (from tensorflow==2.0.0-rc0) (0.8.0)\n",
            "Requirement already satisfied: protobuf>=3.6.1 in /usr/local/lib/python3.6/dist-packages (from tensorflow==2.0.0-rc0) (3.7.1)\n",
            "Requirement already satisfied: grpcio>=1.8.6 in /usr/local/lib/python3.6/dist-packages (from tensorflow==2.0.0-rc0) (1.15.0)\n",
            "Requirement already satisfied: keras-applications>=1.0.8 in /usr/local/lib/python3.6/dist-packages (from tensorflow==2.0.0-rc0) (1.0.8)\n",
            "Collecting tf-estimator-nightly<1.14.0.dev2019080602,>=1.14.0.dev2019080601 (from tensorflow==2.0.0-rc0)\n",
            "\u001b[?25l  Downloading https://files.pythonhosted.org/packages/21/28/f2a27a62943d5f041e4a6fd404b2d21cb7c59b2242a4e73b03d9ba166552/tf_estimator_nightly-1.14.0.dev2019080601-py2.py3-none-any.whl (501kB)\n",
            "\u001b[K     |████████████████████████████████| 501kB 45.8MB/s \n",
            "\u001b[?25hRequirement already satisfied: gast>=0.2.0 in /usr/local/lib/python3.6/dist-packages (from tensorflow==2.0.0-rc0) (0.2.2)\n",
            "Requirement already satisfied: absl-py>=0.7.0 in /usr/local/lib/python3.6/dist-packages (from tensorflow==2.0.0-rc0) (0.8.0)\n",
            "Requirement already satisfied: markdown>=2.6.8 in /usr/local/lib/python3.6/dist-packages (from tb-nightly<1.15.0a20190807,>=1.15.0a20190806->tensorflow==2.0.0-rc0) (3.1.1)\n",
            "Requirement already satisfied: setuptools>=41.0.0 in /usr/local/lib/python3.6/dist-packages (from tb-nightly<1.15.0a20190807,>=1.15.0a20190806->tensorflow==2.0.0-rc0) (41.2.0)\n",
            "Requirement already satisfied: werkzeug>=0.11.15 in /usr/local/lib/python3.6/dist-packages (from tb-nightly<1.15.0a20190807,>=1.15.0a20190806->tensorflow==2.0.0-rc0) (0.15.6)\n",
            "Requirement already satisfied: h5py in /usr/local/lib/python3.6/dist-packages (from keras-applications>=1.0.8->tensorflow==2.0.0-rc0) (2.8.0)\n",
            "Installing collected packages: tb-nightly, tf-estimator-nightly, tensorflow\n",
            "  Found existing installation: tensorflow 1.14.0\n",
            "    Uninstalling tensorflow-1.14.0:\n",
            "      Successfully uninstalled tensorflow-1.14.0\n",
            "Successfully installed tb-nightly-1.15.0a20190806 tensorflow-2.0.0rc0 tf-estimator-nightly-1.14.0.dev2019080601\n"
          ],
          "name": "stdout"
        }
      ]
    },
    {
      "cell_type": "code",
      "metadata": {
        "id": "XHgNZMMhg4Mc",
        "colab_type": "code",
        "colab": {
          "base_uri": "https://localhost:8080/",
          "height": 663
        },
        "outputId": "118ca6e2-7aac-4390-c05b-652dde1ff3be"
      },
      "source": [
        "pip install transformers"
      ],
      "execution_count": 8,
      "outputs": [
        {
          "output_type": "stream",
          "text": [
            "Collecting transformers\n",
            "\u001b[?25l  Downloading https://files.pythonhosted.org/packages/66/99/ca0e4c35ccde7d290de3c9c236d5629d1879b04927e5ace9bd6d9183e236/transformers-2.0.0-py3-none-any.whl (290kB)\n",
            "\r\u001b[K     |█▏                              | 10kB 13.4MB/s eta 0:00:01\r\u001b[K     |██▎                             | 20kB 3.3MB/s eta 0:00:01\r\u001b[K     |███▍                            | 30kB 4.7MB/s eta 0:00:01\r\u001b[K     |████▌                           | 40kB 3.0MB/s eta 0:00:01\r\u001b[K     |█████▋                          | 51kB 3.6MB/s eta 0:00:01\r\u001b[K     |██████▊                         | 61kB 4.3MB/s eta 0:00:01\r\u001b[K     |████████                        | 71kB 4.9MB/s eta 0:00:01\r\u001b[K     |█████████                       | 81kB 5.5MB/s eta 0:00:01\r\u001b[K     |██████████▏                     | 92kB 6.1MB/s eta 0:00:01\r\u001b[K     |███████████▎                    | 102kB 4.8MB/s eta 0:00:01\r\u001b[K     |████████████▍                   | 112kB 4.8MB/s eta 0:00:01\r\u001b[K     |█████████████▌                  | 122kB 4.8MB/s eta 0:00:01\r\u001b[K     |██████████████▊                 | 133kB 4.8MB/s eta 0:00:01\r\u001b[K     |███████████████▉                | 143kB 4.8MB/s eta 0:00:01\r\u001b[K     |█████████████████               | 153kB 4.8MB/s eta 0:00:01\r\u001b[K     |██████████████████              | 163kB 4.8MB/s eta 0:00:01\r\u001b[K     |███████████████████▏            | 174kB 4.8MB/s eta 0:00:01\r\u001b[K     |████████████████████▎           | 184kB 4.8MB/s eta 0:00:01\r\u001b[K     |█████████████████████▍          | 194kB 4.8MB/s eta 0:00:01\r\u001b[K     |██████████████████████▋         | 204kB 4.8MB/s eta 0:00:01\r\u001b[K     |███████████████████████▊        | 215kB 4.8MB/s eta 0:00:01\r\u001b[K     |████████████████████████▉       | 225kB 4.8MB/s eta 0:00:01\r\u001b[K     |██████████████████████████      | 235kB 4.8MB/s eta 0:00:01\r\u001b[K     |███████████████████████████     | 245kB 4.8MB/s eta 0:00:01\r\u001b[K     |████████████████████████████▏   | 256kB 4.8MB/s eta 0:00:01\r\u001b[K     |█████████████████████████████▍  | 266kB 4.8MB/s eta 0:00:01\r\u001b[K     |██████████████████████████████▌ | 276kB 4.8MB/s eta 0:00:01\r\u001b[K     |███████████████████████████████▋| 286kB 4.8MB/s eta 0:00:01\r\u001b[K     |████████████████████████████████| 296kB 4.8MB/s \n",
            "\u001b[?25hCollecting sentencepiece (from transformers)\n",
            "\u001b[?25l  Downloading https://files.pythonhosted.org/packages/14/3d/efb655a670b98f62ec32d66954e1109f403db4d937c50d779a75b9763a29/sentencepiece-0.1.83-cp36-cp36m-manylinux1_x86_64.whl (1.0MB)\n",
            "\u001b[K     |████████████████████████████████| 1.0MB 37.7MB/s \n",
            "\u001b[?25hRequirement already satisfied: tqdm in /usr/local/lib/python3.6/dist-packages (from transformers) (4.28.1)\n",
            "Collecting regex (from transformers)\n",
            "\u001b[?25l  Downloading https://files.pythonhosted.org/packages/6f/a6/99eeb5904ab763db87af4bd71d9b1dfdd9792681240657a4c0a599c10a81/regex-2019.08.19.tar.gz (654kB)\n",
            "\u001b[K     |████████████████████████████████| 655kB 41.4MB/s \n",
            "\u001b[?25hRequirement already satisfied: boto3 in /usr/local/lib/python3.6/dist-packages (from transformers) (1.9.224)\n",
            "Requirement already satisfied: numpy in /usr/local/lib/python3.6/dist-packages (from transformers) (1.16.5)\n",
            "Collecting sacremoses (from transformers)\n",
            "\u001b[?25l  Downloading https://files.pythonhosted.org/packages/27/04/b92425ca552116afdb7698fa3f00ca1c975cfd86a847cf132fd813c5d901/sacremoses-0.0.34.tar.gz (859kB)\n",
            "\u001b[K     |████████████████████████████████| 860kB 44.3MB/s \n",
            "\u001b[?25hRequirement already satisfied: requests in /usr/local/lib/python3.6/dist-packages (from transformers) (2.21.0)\n",
            "Requirement already satisfied: s3transfer<0.3.0,>=0.2.0 in /usr/local/lib/python3.6/dist-packages (from boto3->transformers) (0.2.1)\n",
            "Requirement already satisfied: botocore<1.13.0,>=1.12.224 in /usr/local/lib/python3.6/dist-packages (from boto3->transformers) (1.12.224)\n",
            "Requirement already satisfied: jmespath<1.0.0,>=0.7.1 in /usr/local/lib/python3.6/dist-packages (from boto3->transformers) (0.9.4)\n",
            "Requirement already satisfied: six in /usr/local/lib/python3.6/dist-packages (from sacremoses->transformers) (1.12.0)\n",
            "Requirement already satisfied: click in /usr/local/lib/python3.6/dist-packages (from sacremoses->transformers) (7.0)\n",
            "Requirement already satisfied: joblib in /usr/local/lib/python3.6/dist-packages (from sacremoses->transformers) (0.13.2)\n",
            "Requirement already satisfied: urllib3<1.25,>=1.21.1 in /usr/local/lib/python3.6/dist-packages (from requests->transformers) (1.24.3)\n",
            "Requirement already satisfied: certifi>=2017.4.17 in /usr/local/lib/python3.6/dist-packages (from requests->transformers) (2019.6.16)\n",
            "Requirement already satisfied: idna<2.9,>=2.5 in /usr/local/lib/python3.6/dist-packages (from requests->transformers) (2.8)\n",
            "Requirement already satisfied: chardet<3.1.0,>=3.0.2 in /usr/local/lib/python3.6/dist-packages (from requests->transformers) (3.0.4)\n",
            "Requirement already satisfied: docutils<0.16,>=0.10 in /usr/local/lib/python3.6/dist-packages (from botocore<1.13.0,>=1.12.224->boto3->transformers) (0.15.2)\n",
            "Requirement already satisfied: python-dateutil<3.0.0,>=2.1; python_version >= \"2.7\" in /usr/local/lib/python3.6/dist-packages (from botocore<1.13.0,>=1.12.224->boto3->transformers) (2.5.3)\n",
            "Building wheels for collected packages: regex, sacremoses\n",
            "  Building wheel for regex (setup.py) ... \u001b[?25l\u001b[?25hdone\n",
            "  Created wheel for regex: filename=regex-2019.8.19-cp36-cp36m-linux_x86_64.whl size=609239 sha256=af5fc2dc1179b42034188a103a343c91e9f6640ebfdc6125a1ac5cd5cc6892b9\n",
            "  Stored in directory: /root/.cache/pip/wheels/90/04/07/b5010fb816721eb3d6dd64ed5cc8111ca23f97fdab8619b5be\n",
            "  Building wheel for sacremoses (setup.py) ... \u001b[?25l\u001b[?25hdone\n",
            "  Created wheel for sacremoses: filename=sacremoses-0.0.34-cp36-none-any.whl size=883992 sha256=e77a42b865f9e729b2eaf6e9b3036a7cc1dde44a040d72d09d6ca5528d529485\n",
            "  Stored in directory: /root/.cache/pip/wheels/07/b9/5b/8bd674c23e962fbff34420a9fa7a2c374d591ecadd5bc37684\n",
            "Successfully built regex sacremoses\n",
            "Installing collected packages: sentencepiece, regex, sacremoses, transformers\n",
            "Successfully installed regex-2019.8.19 sacremoses-0.0.34 sentencepiece-0.1.83 transformers-2.0.0\n"
          ],
          "name": "stdout"
        }
      ]
    },
    {
      "cell_type": "code",
      "metadata": {
        "id": "_PM7fli8h_ZP",
        "colab_type": "code",
        "colab": {}
      },
      "source": [
        "import numpy\n",
        "import tensorflow as tf\n",
        "from transformers import *"
      ],
      "execution_count": 0,
      "outputs": []
    },
    {
      "cell_type": "code",
      "metadata": {
        "id": "a-rcLVpgidHP",
        "colab_type": "code",
        "colab": {
          "base_uri": "https://localhost:8080/",
          "height": 34
        },
        "outputId": "cf741b49-eb08-41b8-c230-8aef1f80eb44"
      },
      "source": [
        "tokenizer = DistilBertTokenizer.from_pretrained('distilbert-base-uncased')"
      ],
      "execution_count": 11,
      "outputs": [
        {
          "output_type": "stream",
          "text": [
            "100%|██████████| 231508/231508 [00:00<00:00, 1240018.30B/s]\n"
          ],
          "name": "stderr"
        }
      ]
    },
    {
      "cell_type": "code",
      "metadata": {
        "id": "HPdgX3JFjVAB",
        "colab_type": "code",
        "colab": {
          "base_uri": "https://localhost:8080/",
          "height": 34
        },
        "outputId": "57ce37fd-1e98-4b22-b62b-c326f9a2885f"
      },
      "source": [
        "model = TFDistilBertModel.from_pretrained('distilbert-base-uncased')"
      ],
      "execution_count": 20,
      "outputs": [
        {
          "output_type": "stream",
          "text": [
            "100%|██████████| 363423424/363423424 [00:10<00:00, 36061744.07B/s]\n"
          ],
          "name": "stderr"
        }
      ]
    },
    {
      "cell_type": "code",
      "metadata": {
        "id": "6B3WO9s7jbhh",
        "colab_type": "code",
        "colab": {}
      },
      "source": [
        "text = \"[CLS] Who was Jim Henson ? Jim [MASK] was a puppeteer [SEP]\"\n",
        "tokens = tokenizer.encode(text)"
      ],
      "execution_count": 0,
      "outputs": []
    },
    {
      "cell_type": "code",
      "metadata": {
        "id": "lqbTjPbUkHZU",
        "colab_type": "code",
        "colab": {
          "base_uri": "https://localhost:8080/",
          "height": 34
        },
        "outputId": "3257109d-a1a9-48e4-9af3-cfd5f99e7551"
      },
      "source": [
        "print(tokens)"
      ],
      "execution_count": 22,
      "outputs": [
        {
          "output_type": "stream",
          "text": [
            "[101, 2040, 2001, 3958, 27227, 1029, 3958, 103, 2001, 1037, 13997, 11510, 102]\n"
          ],
          "name": "stdout"
        }
      ]
    },
    {
      "cell_type": "code",
      "metadata": {
        "id": "DYH6tUNRjskQ",
        "colab_type": "code",
        "colab": {}
      },
      "source": [
        "tf_inputs = tf.constant([tokens])"
      ],
      "execution_count": 0,
      "outputs": []
    },
    {
      "cell_type": "code",
      "metadata": {
        "id": "nL8j3yeKkOO4",
        "colab_type": "code",
        "colab": {
          "base_uri": "https://localhost:8080/",
          "height": 68
        },
        "outputId": "b36862a6-8f76-4559-a268-e0c5dbcf9449"
      },
      "source": [
        "print(tf_inputs)"
      ],
      "execution_count": 24,
      "outputs": [
        {
          "output_type": "stream",
          "text": [
            "tf.Tensor(\n",
            "[[  101  2040  2001  3958 27227  1029  3958   103  2001  1037 13997 11510\n",
            "    102]], shape=(1, 13), dtype=int32)\n"
          ],
          "name": "stdout"
        }
      ]
    },
    {
      "cell_type": "code",
      "metadata": {
        "id": "klSinV0djxzM",
        "colab_type": "code",
        "colab": {}
      },
      "source": [
        "tf_output = model(tf_inputs,training=False)"
      ],
      "execution_count": 0,
      "outputs": []
    },
    {
      "cell_type": "code",
      "metadata": {
        "id": "jV28hxqskNK8",
        "colab_type": "code",
        "colab": {
          "base_uri": "https://localhost:8080/",
          "height": 255
        },
        "outputId": "558a7c91-6299-43f8-c23e-2d3b8a65f3c9"
      },
      "source": [
        "print(tf_output)"
      ],
      "execution_count": 27,
      "outputs": [
        {
          "output_type": "stream",
          "text": [
            "(<tf.Tensor: id=4085, shape=(1, 13, 768), dtype=float32, numpy=\n",
            "array([[[-0.21021019,  0.13284668,  0.00259679, ..., -0.0115498 ,\n",
            "          0.28256565,  0.3349731 ],\n",
            "        [-0.6021809 ,  0.00682241,  0.05841997, ...,  0.01242756,\n",
            "          0.3346558 , -0.41981506],\n",
            "        [-0.55397725, -0.05069625, -0.24984339, ...,  0.08756064,\n",
            "          0.37719464,  0.20139967],\n",
            "        ...,\n",
            "        [-0.01019667, -0.22512233,  0.19934413, ...,  0.03522625,\n",
            "          0.45433873,  0.5077871 ],\n",
            "        [-0.21602084,  0.17490914,  0.2615769 , ...,  0.19644357,\n",
            "          0.1490563 , -0.19996664],\n",
            "        [ 0.8434901 ,  0.46343035, -0.23264432, ...,  0.2449837 ,\n",
            "         -0.26064926, -0.0995862 ]]], dtype=float32)>,)\n"
          ],
          "name": "stdout"
        }
      ]
    },
    {
      "cell_type": "code",
      "metadata": {
        "id": "5d-ZCYK-j3P0",
        "colab_type": "code",
        "colab": {
          "base_uri": "https://localhost:8080/",
          "height": 51
        },
        "outputId": "68c517f9-be89-4d2c-d306-dc2df840bb92"
      },
      "source": [
        "tokenizer1 = BertTokenizer.from_pretrained('bert-base-uncased')\n",
        "model_bert = TFBertModel.from_pretrained('bert-base-uncased')"
      ],
      "execution_count": 28,
      "outputs": [
        {
          "output_type": "stream",
          "text": [
            "100%|██████████| 313/313 [00:00<00:00, 97404.45B/s]\n",
            "100%|██████████| 536063208/536063208 [00:15<00:00, 33688777.56B/s]\n"
          ],
          "name": "stderr"
        }
      ]
    },
    {
      "cell_type": "code",
      "metadata": {
        "id": "3JFBN21GmuQR",
        "colab_type": "code",
        "colab": {}
      },
      "source": [
        "tex_1 = \"[CLS] Who was Jim Henson ? Jim [MASK] was a puppeteer [SEP]\"\n",
        "token_1 = tokenizer1.encode(text1)"
      ],
      "execution_count": 0,
      "outputs": []
    },
    {
      "cell_type": "code",
      "metadata": {
        "id": "X5NNXhGbnA3R",
        "colab_type": "code",
        "colab": {}
      },
      "source": [
        "tf_input_1 = tf.constant([token_1])"
      ],
      "execution_count": 0,
      "outputs": []
    },
    {
      "cell_type": "code",
      "metadata": {
        "id": "UC5n0lYNnW1I",
        "colab_type": "code",
        "colab": {}
      },
      "source": [
        "tf_output_1= model_bert(tf_input_1, training=False)"
      ],
      "execution_count": 0,
      "outputs": []
    },
    {
      "cell_type": "code",
      "metadata": {
        "id": "JHHgVxvUngks",
        "colab_type": "code",
        "colab": {
          "base_uri": "https://localhost:8080/",
          "height": 1000
        },
        "outputId": "3123f6b6-9195-447b-99ad-2d644175a87d"
      },
      "source": [
        "print(tf_output_1)"
      ],
      "execution_count": 34,
      "outputs": [
        {
          "output_type": "stream",
          "text": [
            "(<tf.Tensor: id=12623, shape=(1, 13, 768), dtype=float32, numpy=\n",
            "array([[[-0.08862583,  0.12331912, -0.04344402, ..., -0.15937367,\n",
            "          0.3462374 ,  0.29925236],\n",
            "        [-1.0924177 ,  0.30834728, -0.05347633, ..., -0.03328572,\n",
            "          0.0647072 , -0.29891902],\n",
            "        [ 0.09913804, -0.5699878 , -0.32382083, ..., -0.11139255,\n",
            "          0.40436238,  0.52995265],\n",
            "        ...,\n",
            "        [ 0.21172668,  0.07650962,  0.23238865, ...,  0.11162611,\n",
            "          0.8309876 ,  0.35223114],\n",
            "        [-0.25335768, -0.04377572,  0.26526996, ...,  0.5064801 ,\n",
            "          0.13923964, -0.16921747],\n",
            "        [ 0.7615249 ,  0.3997792 , -0.16638292, ...,  0.3211632 ,\n",
            "         -0.33306694, -0.0228935 ]]], dtype=float32)>, <tf.Tensor: id=12632, shape=(1, 768), dtype=float32, numpy=\n",
            "array([[-7.45368958e-01, -2.41569102e-01,  6.17856026e-01,\n",
            "         3.26964408e-01, -3.16819340e-01, -1.81646973e-01,\n",
            "         7.66066015e-01,  1.58885419e-01,  5.20892084e-01,\n",
            "        -9.99109387e-01,  1.03382923e-01, -1.06921464e-01,\n",
            "         9.74912405e-01, -5.63921571e-01,  8.43355894e-01,\n",
            "        -4.13666248e-01, -7.49833211e-02, -4.27551389e-01,\n",
            "         2.74016947e-01, -4.89721090e-01,  4.52788323e-01,\n",
            "         6.57748640e-01,  6.97757542e-01,  2.04783261e-01,\n",
            "         2.58047223e-01, -3.16051573e-01, -5.29753089e-01,\n",
            "         8.63554478e-01,  9.07324612e-01,  6.71751142e-01,\n",
            "        -5.15208125e-01,  2.36272395e-01, -9.72994268e-01,\n",
            "        -1.42384782e-01,  5.69835365e-01, -9.69042659e-01,\n",
            "         7.76187852e-02, -6.74803376e-01,  4.60217930e-02,\n",
            "        -5.29430136e-02, -7.81134665e-01,  2.86306500e-01,\n",
            "         9.80771363e-01, -6.66881561e-01, -1.95420071e-01,\n",
            "        -3.00350338e-01, -9.95651007e-01,  1.39812618e-01,\n",
            "        -7.94099152e-01, -6.52850330e-01, -4.58845764e-01,\n",
            "        -7.18250453e-01,  1.17575452e-01,  2.42778853e-01,\n",
            "         3.11666816e-01,  4.02850926e-01, -1.30889088e-01,\n",
            "         1.24198928e-01, -5.73614724e-02, -4.64416176e-01,\n",
            "        -5.25270462e-01,  1.47030368e-01,  4.48827416e-01,\n",
            "        -8.33978415e-01, -4.25205678e-01, -7.12415278e-01,\n",
            "        -1.11320108e-01, -1.60268217e-01,  2.02593468e-02,\n",
            "        -3.75349708e-02,  7.41048038e-01,  1.62668377e-01,\n",
            "         3.28283370e-01, -6.50379956e-01, -6.09683216e-01,\n",
            "         1.50321856e-01, -1.91394582e-01,  9.99869347e-01,\n",
            "        -2.04294398e-02, -9.62156892e-01, -4.86113459e-01,\n",
            "        -4.40489322e-01,  1.26456454e-01,  7.20999837e-01,\n",
            "        -6.86488628e-01, -9.99075413e-01,  2.44070143e-01,\n",
            "        -7.43095055e-02, -9.78913486e-01,  1.42206848e-01,\n",
            "         1.86606139e-01, -1.37244746e-01, -5.19378185e-01,\n",
            "         1.46305606e-01, -4.68123741e-02, -4.30298038e-03,\n",
            "        -1.38133645e-01,  4.00460541e-01, -7.73200989e-02,\n",
            "         1.32565245e-01, -7.58142546e-02, -5.96432202e-02,\n",
            "         7.52928108e-02, -2.31050313e-01,  1.14812283e-02,\n",
            "        -2.47576699e-01, -1.13595352e-01, -6.52484298e-02,\n",
            "        -3.39232057e-01,  5.06291270e-01,  1.28612876e-01,\n",
            "        -1.37062252e-01,  1.15459390e-01, -9.11632836e-01,\n",
            "         4.71708983e-01, -1.40374169e-01, -9.57298636e-01,\n",
            "        -1.61458462e-01, -9.76338327e-01,  5.94417691e-01,\n",
            "         9.14688408e-02, -1.50815740e-01,  9.26450074e-01,\n",
            "         6.84713364e-01,  1.82324231e-01,  1.74107272e-02,\n",
            "         6.99596584e-01, -9.99949396e-01,  1.31293297e-01,\n",
            "         1.34112254e-01,  4.65519875e-01, -4.71282005e-02,\n",
            "        -9.54116225e-01, -9.20137227e-01,  4.09087062e-01,\n",
            "         8.95714104e-01,  9.07327533e-02,  9.79346037e-01,\n",
            "        -5.03539219e-02,  8.89205039e-01,  4.54472125e-01,\n",
            "         1.56266633e-02, -5.21862209e-01, -3.64369631e-01,\n",
            "         2.14896630e-02,  1.01649426e-01, -4.70527709e-01,\n",
            "         1.84226856e-01,  2.81685293e-01, -5.01681626e-01,\n",
            "         2.94824783e-03, -1.84836105e-01,  5.49445689e-01,\n",
            "        -8.62401426e-01, -3.35542500e-01,  8.48158717e-01,\n",
            "         3.76268774e-01,  6.50182962e-01,  7.24170685e-01,\n",
            "        -6.46831319e-02, -2.15351626e-01,  7.07696557e-01,\n",
            "         8.15903619e-02,  2.01289371e-01,  1.41524673e-01,\n",
            "         2.27523848e-01, -3.54932189e-01,  2.74701267e-01,\n",
            "        -7.63812304e-01,  4.15913761e-01,  2.81923145e-01,\n",
            "        -6.42566904e-02,  6.42155826e-01, -9.60507095e-01,\n",
            "        -2.26171881e-01,  2.91419446e-01,  9.66376185e-01,\n",
            "         6.53320372e-01,  1.79167300e-01, -2.69277751e-01,\n",
            "        -9.97660831e-02, -9.94372666e-02, -8.87541234e-01,\n",
            "         9.54323471e-01, -5.39381690e-02,  1.63747430e-01,\n",
            "         5.11141539e-01, -3.05054098e-01, -7.42484212e-01,\n",
            "        -5.49445689e-01,  7.22507656e-01,  1.27754539e-01,\n",
            "        -7.53722310e-01,  1.29848331e-01, -3.27819705e-01,\n",
            "        -2.12013409e-01,  3.23468029e-01,  3.06767464e-01,\n",
            "        -1.88040733e-01, -2.99191803e-01,  8.73187035e-02,\n",
            "         8.68202567e-01,  8.50179255e-01,  6.15939856e-01,\n",
            "        -5.65733135e-01,  2.48756289e-01, -8.36096048e-01,\n",
            "        -1.94224834e-01,  1.45770878e-01,  2.15240538e-01,\n",
            "        -1.67960171e-02,  9.81140852e-01,  9.58502442e-02,\n",
            "        -6.74113929e-02, -8.01999748e-01, -9.66235518e-01,\n",
            "         6.20895363e-02, -7.65876055e-01,  4.98415641e-02,\n",
            "        -5.19170403e-01,  3.34578045e-02,  5.32712877e-01,\n",
            "        -4.35843945e-01,  1.59153447e-01, -9.09266174e-01,\n",
            "        -6.63648307e-01,  2.09086686e-01, -1.96919858e-01,\n",
            "         2.87089795e-01, -1.18812852e-01,  3.29416156e-01,\n",
            "        -4.86421406e-01, -4.54343855e-01,  5.84080458e-01,\n",
            "         8.15549910e-01,  6.46079063e-01, -5.78448355e-01,\n",
            "         5.92064083e-01, -1.38297647e-01,  8.13213348e-01,\n",
            "        -4.06377405e-01,  9.41418111e-01, -3.54424983e-01,\n",
            "         2.44962677e-01, -8.75107706e-01,  3.67473811e-01,\n",
            "        -7.97835708e-01,  4.31297392e-01, -4.13367599e-02,\n",
            "        -7.29315400e-01, -4.06066030e-01,  1.84581622e-01,\n",
            "         1.76553234e-01,  8.24774384e-01, -2.63662606e-01,\n",
            "         9.64215338e-01, -5.70025682e-01, -9.21683848e-01,\n",
            "        -7.80693395e-03,  1.21315174e-01, -9.74184155e-01,\n",
            "        -4.07022774e-01,  1.72030479e-01, -6.21927023e-01,\n",
            "        -2.58526474e-01, -2.39443794e-01, -9.13999438e-01,\n",
            "         6.75151825e-01,  1.50105715e-01,  9.32293296e-01,\n",
            "         1.27805561e-01, -7.47216761e-01, -2.31678039e-02,\n",
            "        -8.68452728e-01, -1.49859771e-01, -2.03318354e-02,\n",
            "         7.13969469e-01, -9.52254832e-02, -9.21712220e-01,\n",
            "         3.22035789e-01,  4.03763592e-01,  3.11674178e-01,\n",
            "         6.62717938e-01,  9.76621211e-01,  9.87102926e-01,\n",
            "         9.55366015e-01,  8.22760105e-01,  6.94846213e-01,\n",
            "        -5.40099740e-01,  3.93285938e-02,  9.99440134e-01,\n",
            "        -4.34438959e-02, -9.98214960e-01, -8.98089170e-01,\n",
            "        -4.45339471e-01,  2.57357717e-01, -9.99923468e-01,\n",
            "        -9.75774676e-02, -5.02080482e-04, -8.86981070e-01,\n",
            "        -5.50856948e-01,  9.52628791e-01,  9.27501678e-01,\n",
            "        -9.99749243e-01,  7.98366964e-01,  8.41973782e-01,\n",
            "        -2.20146954e-01, -2.28128150e-01, -8.78820010e-03,\n",
            "         9.61862981e-01,  2.03642741e-01,  3.38231355e-01,\n",
            "        -8.38496089e-02,  2.90823281e-01,  1.10320129e-01,\n",
            "        -7.25133777e-01,  4.98120219e-01,  4.17458892e-01,\n",
            "         1.28968721e-02,  1.02929566e-02, -4.10703212e-01,\n",
            "        -8.84705007e-01, -2.54231662e-01, -6.99729845e-02,\n",
            "        -3.53241682e-01, -9.13616002e-01, -5.86460829e-02,\n",
            "        -4.62743044e-01,  3.27932864e-01,  3.97168584e-02,\n",
            "         5.61753064e-02, -6.52439117e-01,  1.22145295e-01,\n",
            "        -7.57011890e-01,  3.39813024e-01,  3.19186926e-01,\n",
            "        -8.70594680e-01, -3.86939436e-01,  2.97191560e-01,\n",
            "        -4.78019118e-01,  4.81532544e-01, -9.08148646e-01,\n",
            "         9.39811945e-01, -1.48865074e-01, -5.09168863e-01,\n",
            "         9.99850571e-01, -1.57601744e-01, -7.87851691e-01,\n",
            "         5.84997535e-02,  1.80070437e-02,  8.33497420e-02,\n",
            "         9.99584615e-01,  3.16267423e-02, -9.61064517e-01,\n",
            "        -1.61348104e-01, -7.31483698e-02, -2.04528123e-01,\n",
            "        -1.02775134e-01,  9.91483033e-01, -3.97079289e-02,\n",
            "         3.81488651e-01,  5.15207350e-01,  9.61166739e-01,\n",
            "        -9.76662219e-01, -1.46167561e-01, -7.83619761e-01,\n",
            "        -9.11597610e-01,  9.37720478e-01,  8.95541251e-01,\n",
            "        -1.35851860e-01, -3.54993373e-01,  1.85159594e-02,\n",
            "         4.00362968e-01,  1.00677378e-01, -8.74307811e-01,\n",
            "         4.09937918e-01,  3.59385341e-01, -5.09752594e-02,\n",
            "         8.12140048e-01, -6.98746443e-01, -1.37265325e-01,\n",
            "         3.00761521e-01,  1.77097529e-01,  3.51828992e-01,\n",
            "        -5.27906537e-01,  2.91236579e-01, -3.08720246e-02,\n",
            "        -2.10844800e-02, -1.42846078e-01,  1.83079951e-02,\n",
            "        -9.22773182e-01, -2.68028647e-01,  9.99570727e-01,\n",
            "         1.09802559e-01, -5.46944499e-01, -4.56923954e-02,\n",
            "        -6.52973726e-02, -3.27470362e-01,  2.23044813e-01,\n",
            "         2.90315062e-01, -1.43248871e-01, -7.04940796e-01,\n",
            "        -4.19266284e-01, -7.99475133e-01, -9.77070332e-01,\n",
            "         5.04036188e-01,  1.27792805e-01, -1.12361602e-01,\n",
            "         9.75303769e-01,  2.88895875e-01,  5.33541366e-02,\n",
            "        -1.11746922e-01, -1.51852652e-01, -4.26770225e-02,\n",
            "         3.09218496e-01, -6.73452437e-01,  9.31358755e-01,\n",
            "        -1.83065817e-01,  1.29232317e-01,  6.36079907e-01,\n",
            "         5.12827098e-01, -2.06484720e-01, -4.35507745e-01,\n",
            "        -4.24366966e-02, -8.47997308e-01,  1.26905531e-01,\n",
            "        -8.96175444e-01,  9.07711565e-01, -5.60729027e-01,\n",
            "         1.87077537e-01,  7.34648015e-03, -3.24720681e-01,\n",
            "         9.99778330e-01, -1.85105335e-02,  4.25130874e-01,\n",
            "        -4.01488066e-01,  6.61647856e-01, -5.62982738e-01,\n",
            "        -5.09083271e-01, -3.12430829e-01,  1.06178783e-02,\n",
            "         6.03173912e-01, -9.40525457e-02,  8.69935751e-02,\n",
            "        -9.39057887e-01, -5.84050477e-01, -4.41853970e-01,\n",
            "        -8.87112021e-01, -9.78759766e-01,  6.12954378e-01,\n",
            "         5.46271801e-01,  6.38942793e-02, -2.20193453e-02,\n",
            "        -4.03263688e-01, -4.55264241e-01,  9.84783992e-02,\n",
            "         9.05122142e-03, -9.03311610e-01,  7.22963989e-01,\n",
            "        -1.62879914e-01,  2.39782631e-01, -1.93277732e-01,\n",
            "         2.32763857e-01, -7.18480706e-01,  8.40281546e-01,\n",
            "         6.08523071e-01,  1.31819054e-01, -1.05541132e-01,\n",
            "        -6.85468495e-01,  5.62895119e-01, -5.26624918e-01,\n",
            "         6.60616040e-01, -8.72269943e-02,  9.99886751e-01,\n",
            "        -1.96448013e-01, -4.54248428e-01,  5.35403430e-01,\n",
            "         4.95194465e-01, -7.79125020e-02,  6.19977228e-02,\n",
            "        -6.34456158e-01,  8.46074745e-02,  5.38563907e-01,\n",
            "         6.06433153e-01, -6.32759094e-01, -9.46610644e-02,\n",
            "         2.18467847e-01, -4.35491920e-01, -6.53944373e-01,\n",
            "         6.56239033e-01, -7.14158416e-02,  1.12525307e-01,\n",
            "         9.03361011e-03,  3.86590250e-02,  9.82572913e-01,\n",
            "        -2.09233928e-02, -2.33923309e-02, -3.24214309e-01,\n",
            "         4.24415246e-02, -2.27541819e-01, -3.15093249e-01,\n",
            "         9.98933673e-01,  2.63631493e-01, -2.57745415e-01,\n",
            "        -9.79276478e-01,  4.22300994e-01, -8.25036347e-01,\n",
            "         9.67122674e-01,  7.45658875e-01, -7.68565059e-01,\n",
            "         2.51257390e-01,  1.17412440e-01, -2.04282150e-01,\n",
            "         5.02011538e-01, -1.29147336e-01, -1.84725493e-01,\n",
            "         1.15096532e-01,  1.21482685e-01,  9.40550387e-01,\n",
            "        -3.11766684e-01, -9.37458813e-01, -4.52636480e-01,\n",
            "         1.63401961e-01, -9.10825670e-01,  6.06135070e-01,\n",
            "        -3.50798517e-01, -8.33503157e-02, -2.59285688e-01,\n",
            "         4.42656159e-01,  5.22600591e-01, -8.00990462e-02,\n",
            "        -9.51918125e-01, -4.44053449e-02, -2.25220099e-02,\n",
            "         9.43507373e-01,  6.05781823e-02, -1.61609471e-01,\n",
            "        -8.09831142e-01, -5.70166886e-01, -1.62815392e-01,\n",
            "         5.94049215e-01, -9.06648517e-01,  9.52786148e-01,\n",
            "        -9.16166127e-01,  1.22449540e-01,  9.98449624e-01,\n",
            "         3.17258745e-01, -6.99512720e-01,  1.06714800e-01,\n",
            "        -2.72579372e-01,  1.64940745e-01,  1.87874123e-01,\n",
            "         3.68348569e-01, -9.12547529e-01, -1.54332638e-01,\n",
            "        -9.80671719e-02,  2.28142411e-01, -4.07030098e-02,\n",
            "         3.34030569e-01,  5.65728068e-01,  1.30617708e-01,\n",
            "        -1.35722518e-01, -4.41668630e-01, -8.53606127e-03,\n",
            "         3.00916851e-01,  5.03140509e-01, -1.92310423e-01,\n",
            "        -2.08910480e-02,  5.87053634e-02, -6.43996373e-02,\n",
            "        -8.25390339e-01, -2.14828447e-01, -3.52898575e-02,\n",
            "        -8.45969379e-01,  4.88930315e-01, -9.99849081e-01,\n",
            "        -5.79467297e-01, -6.77017331e-01, -1.43726066e-01,\n",
            "         6.84563518e-01,  5.80598228e-02, -2.73890436e-01,\n",
            "        -5.72614849e-01,  6.01301134e-01,  8.00238788e-01,\n",
            "         5.66631973e-01, -4.59290817e-02,  5.21651566e-01,\n",
            "        -4.95131284e-01,  2.65200604e-02, -3.82005498e-02,\n",
            "         2.13787898e-01,  4.68359798e-01,  5.83961606e-01,\n",
            "        -1.01697519e-01,  9.99915183e-01,  3.34644094e-02,\n",
            "        -9.95472893e-02, -8.69684041e-01,  1.71049625e-01,\n",
            "        -1.13469243e-01,  9.93477464e-01, -7.11032450e-01,\n",
            "        -9.20491755e-01,  1.08886205e-01, -2.92563885e-01,\n",
            "        -6.23701274e-01,  9.33249220e-02, -4.24718224e-02,\n",
            "        -5.17229319e-01,  2.13195562e-01,  8.71464670e-01,\n",
            "         7.29868770e-01, -1.76590487e-01,  2.20928386e-01,\n",
            "        -1.95669010e-01, -1.97947398e-01, -4.78414446e-02,\n",
            "        -5.88821352e-01,  9.77360368e-01,  2.79546320e-01,\n",
            "         7.15841651e-01,  4.31573600e-01,  1.26513958e-01,\n",
            "         9.30770397e-01,  4.01981696e-02,  4.58524734e-01,\n",
            "         3.44738849e-02,  9.98741329e-01,  1.62759423e-01,\n",
            "        -8.42656076e-01,  4.50871319e-01, -9.59966779e-01,\n",
            "        -1.26751289e-01, -8.81814420e-01,  2.09212601e-01,\n",
            "        -8.20731223e-02,  7.42111325e-01, -1.77364677e-01,\n",
            "         9.21934128e-01,  6.75634623e-01, -7.88978953e-03,\n",
            "         2.45145455e-01,  7.37917125e-01,  2.45437130e-01,\n",
            "        -8.51351976e-01, -9.73035216e-01, -9.79243815e-01,\n",
            "         9.99971703e-02, -3.09876651e-01, -1.18468953e-02,\n",
            "         2.24595413e-01,  7.93496296e-02,  2.27042630e-01,\n",
            "         1.75229102e-01, -9.98472691e-01,  8.78299475e-01,\n",
            "         2.34758496e-01, -5.75481236e-01,  9.33782518e-01,\n",
            "        -1.26980364e-01,  1.42730936e-01,  2.38372803e-01,\n",
            "        -9.71027732e-01, -8.65872085e-01, -1.94738626e-01,\n",
            "        -2.13152543e-01,  5.14139295e-01,  3.18630785e-01,\n",
            "         7.33337045e-01,  1.59042835e-01, -3.92195344e-01,\n",
            "        -1.60770357e-01,  6.46524549e-01, -5.06006896e-01,\n",
            "        -9.82464433e-01,  3.47373664e-01,  4.78831649e-01,\n",
            "        -8.23945820e-01,  9.02241409e-01, -4.88987237e-01,\n",
            "        -1.02289312e-01,  6.94165945e-01,  5.76034904e-01,\n",
            "         8.01520407e-01,  5.91321468e-01,  3.67506206e-01,\n",
            "         1.62645623e-01,  4.75875020e-01,  8.22653174e-01,\n",
            "         8.43459666e-01,  9.76184130e-01,  3.81208241e-01,\n",
            "         5.05284548e-01,  5.54805756e-01,  1.80842921e-01,\n",
            "         3.86520922e-01, -8.95825744e-01,  1.58960018e-02,\n",
            "        -2.48440549e-01,  8.32805783e-02,  1.55640423e-01,\n",
            "        -1.29144058e-01, -8.70588839e-01,  2.14140981e-01,\n",
            "        -3.19658108e-02,  3.85140419e-01, -1.56743124e-01,\n",
            "         2.08841026e-01, -3.12918365e-01, -1.45876398e-02,\n",
            "        -6.02606714e-01, -2.34735236e-01,  2.89893031e-01,\n",
            "         1.78343385e-01,  8.74111414e-01,  2.04110295e-02,\n",
            "        -4.88952026e-02, -2.87353635e-01, -5.88386133e-02,\n",
            "         5.81881642e-01, -8.90761971e-01,  7.85310864e-01,\n",
            "         5.28355315e-02,  7.12125123e-01, -3.83583844e-01,\n",
            "        -1.38688341e-01,  5.55752695e-01, -2.66548306e-01,\n",
            "        -2.43695170e-01, -2.34061167e-01, -6.27992451e-01,\n",
            "         6.39716685e-01, -6.76460005e-03, -2.83865392e-01,\n",
            "        -2.75676996e-01,  4.94027615e-01,  1.64478749e-01,\n",
            "         7.73492813e-01,  2.58361936e-01,  4.35381174e-01,\n",
            "         1.01543866e-01, -1.03433974e-01,  2.17769474e-01,\n",
            "        -3.03287748e-02, -9.98498082e-01,  2.39156067e-01,\n",
            "         5.04473448e-01, -3.84334385e-01,  1.92064926e-01,\n",
            "        -4.20591027e-01,  3.58630300e-01, -9.21198964e-01,\n",
            "        -5.58764078e-02, -1.26718506e-01, -4.42463547e-01,\n",
            "        -4.72812742e-01,  2.77452637e-03,  1.43912286e-01,\n",
            "         6.64173245e-01, -3.42602581e-01,  7.55524993e-01,\n",
            "         2.74395734e-01,  6.46318972e-01,  1.76998794e-01,\n",
            "         3.69924843e-01, -5.01371861e-01,  7.85135388e-01]], dtype=float32)>)\n"
          ],
          "name": "stdout"
        }
      ]
    },
    {
      "cell_type": "code",
      "metadata": {
        "id": "q_OP2SGGnk5i",
        "colab_type": "code",
        "colab": {}
      },
      "source": [
        "import scipy\n",
        "sim = 1-scipy.spatial.distance.cosine(tokens,token_1)"
      ],
      "execution_count": 0,
      "outputs": []
    },
    {
      "cell_type": "code",
      "metadata": {
        "id": "9O0ittUxoZ3m",
        "colab_type": "code",
        "colab": {
          "base_uri": "https://localhost:8080/",
          "height": 34
        },
        "outputId": "ebcfb235-0403-44b8-bbed-e3fff5da2c88"
      },
      "source": [
        "print(sim)"
      ],
      "execution_count": 37,
      "outputs": [
        {
          "output_type": "stream",
          "text": [
            "1.0\n"
          ],
          "name": "stdout"
        }
      ]
    },
    {
      "cell_type": "code",
      "metadata": {
        "id": "-NWVT9AOou34",
        "colab_type": "code",
        "colab": {}
      },
      "source": [
        ""
      ],
      "execution_count": 0,
      "outputs": []
    }
  ]
}